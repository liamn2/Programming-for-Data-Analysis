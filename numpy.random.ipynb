{
 "cells": [
  {
   "cell_type": "markdown",
   "metadata": {},
   "source": [
    "<center><img src=\"https://encrypted-tbn0.gstatic.com/images?q=tbn:ANd9GcTMa6L1HoWd7zWIpL3Z8T3sO1Bb1exbc-K_Og&usqp=CAU\" alt=\"NumPy\" width=\"400px\"></center> <center><b>An overview of numpy.random</b> <br> <font size=\"2\">A project by Liam Nutley <br> Student ID: G00326421</font></center>"
   ]
  },
  {
   "cell_type": "markdown",
   "metadata": {},
   "source": [
    "NumPy is a library created for Python which adds support for arrays and matrices, along with a collection of high-level mathematical functions to operate on said arrays. The random function within NumPy produces pseudo random numbers, that is, numbers which are produced via. a generator algorithm, using combinations of a BitGenerator to create sequences and a Generator to use those sequences to sample from different statistical distributions. BitGenerators are objects that generate random numbers. Some examples include: PCG-64, MT19937 and SFC64. A bit generator creates sequences of random bits by beginning with a value or list of values known as a seed. Generators are objects that take these random bits and create sequences of numbers that fall within a specific probability distribution, e.g: Normal, Binomial,etc."
   ]
  },
  {
   "cell_type": "code",
   "execution_count": 19,
   "metadata": {},
   "outputs": [],
   "source": [
    "# Importing PCG64 FROM NumPy.random in Python. \n",
    "from numpy.random import PCG64\n",
    "\n",
    "bg = PCG64(12345678903141592653589793)"
   ]
  },
  {
   "cell_type": "markdown",
   "metadata": {},
   "source": [
    "Under the umbrella of 'Simple Random Data', we have a variety of functions for creating just that, simple, random data. The ones I will look at here are integers(), which produces a random integer with given parameters. random(), which returns floats, that is, numbers with a decimal point, in what is known as the half-open interval. This means that the number can be any value within a given range, but not including the final parameter value. The choice() function produces a random data set which it creates from an entered, defined array. We have the bytes() function which returns a random string of bytes whose length is dependent on the functions input. "
   ]
  },
  {
   "cell_type": "markdown",
   "metadata": {},
   "source": [
    "Next, 'Permutaions' within Numpy are usued for randomly permutating an input sequence. By permutating the sequence, we mean that the output will produce the same data entries in the sequence but in a different, random order. However, this definition is a generalization as we can permutate along a range in numpy, hence, it is size dependent. There are two main permutating functions within numpy.random. Firstly, we have the shuffle() function, which 'shuffles' the sequence elements in-place, that is, it only moves the same elements into a different order. Finally, the permutation() function randomly permutates the elements, or elements in a given range. "
   ]
  },
  {
   "cell_type": "code",
   "execution_count": null,
   "metadata": {},
   "outputs": [],
   "source": [
    "# Shuffle function in Python\n",
    "arr = np.arange(10)\n",
    "np.random.shuffle(arr)\n",
    "arr\n",
    "[1 7 5 2 9 4 3 6 0 8]\n",
    "\n",
    "# Permutation function in Python\n",
    "np.random.permutation(10)\n",
    "array([1, 7, 4, 3, 0, 9, 2, 5, 8, 6])"
   ]
  },
  {
   "cell_type": "markdown",
   "metadata": {},
   "source": [
    "For the next part of this project, I will be examing 5 seperates types of distrubutions within the numpy.random package. These are namely the beta, binomial, chisquare, direchlet and exponential distributions respectively. Firstly, We will discuss the beta distribution. The beta distribution is a special case of the Direchlet distribution, which we will cover later in this project. It is a particularly important distribution in order statistics. It is used to model continuous random variables in the range (0,1)."
   ]
  },
  {
   "cell_type": "code",
   "execution_count": null,
   "metadata": {},
   "outputs": [],
   "source": [
    "# Beta Distribution code in Python. Here, a and b are input floats and the size is in integer form. \n",
    "random.Generator.beta(a, b, size=None)"
   ]
  },
  {
   "cell_type": "markdown",
   "metadata": {},
   "source": [
    "Next, we have the binomial distribution, represented by the function binomial(). The binomial distribution is used to calculate the probabily of binary, mutually-exclusive results over a number of trials. For example, tossing a coin 5 times, as the possible outcome is binary, i.e. Heads or Tails, if we toss the coin 5 times we arrive at the probability of the coin landing on a particular value in the possible set of two. The Chi-Square distribution describes the distribution of added, squared variables. It can also be used to illustrate whether or not different data series are independent. This last property can be utilised for statistical research purposes and is hence, one of it's utilities in modern scientific research. "
   ]
  },
  {
   "cell_type": "code",
   "execution_count": null,
   "metadata": {},
   "outputs": [],
   "source": [
    "# Chi-Square Distribution in Python. \n",
    "np.random.chisquare(2,4)\n",
    "array([ 1.89920014,  9.00867716,  3.13710533,  5.62318272])\n",
    "\n",
    "# Binomial Distribution in Python\n",
    "n, p = 10, .5  # number of trials, probability of each trial\n",
    "s = np.random.binomial(n, p, 1000)\n",
    "# result of flipping a coin 10 times, tested 1000 times.\n",
    "sum(np.random.binomial(9, 0.1, 20000) == 0)/20000.\n",
    "# answer = 0.38885, or 38%."
   ]
  },
  {
   "cell_type": "markdown",
   "metadata": {},
   "source": [
    "The Dirichlet distribution is a collection of continuous probability distributions having two or more variables, parameterized by a vector of positive real numbers. By 'continuous probabilty distributions', we mean that the distributions variables are defined on , for example, an interval of values, as opposed to discrete data points. Dirichlet distributions are used in Bayesian models as the prior case for categorical or multivariate variables. By 'categorical variables', we mean the values are discrete and often, but not always, fixed. The exponential distribution is the probability distribution of time intervals in, what is known as, a Poisson point process. A Poisson point process is a method for creating random data points within a mathematical space where events occur continuously and independently at a constant rate. It is utilised in research to create predictions of event times. "
   ]
  },
  {
   "cell_type": "markdown",
   "metadata": {},
   "source": [
    "<center><img src=\"https://upload.wikimedia.org/wikipedia/commons/thumb/5/54/LogDirichletDensity-alpha_0.3_to_alpha_2.0.gif/500px-LogDirichletDensity-alpha_0.3_to_alpha_2.0.gif\" alt=\"Dirichlet\" width=\"300px\" align=\"center\"/></center>\n",
    "\n",
    "<font size=\"1\"><b>Fig:</b> Dirichlet Distribution in 3-D Space: <i>Note the smoothness of the graph, illustrating the continuity of the distribution.</i></font>"
   ]
  },
  {
   "cell_type": "markdown",
   "metadata": {},
   "source": [
    "Finally, I will explain the use of seeds in generating pseudorandom numbers. A seed is simply a number or vector. It is used as the first building block in creating pseudorandom numbers in a pseudorandom generator. The value itself need not neceassarily be random. It is used to create the pseudorandom numbers by adhering to defined probability distributions. As each seed that initializes a pseudorandom number generator is unique, it follows that the sequence is always the same if the seed is the same. Hence, if one knew the seed of the generator, they would have the key for the pseudorandom numbers generated.  "
   ]
  },
  {
   "cell_type": "code",
   "execution_count": 26,
   "metadata": {},
   "outputs": [
    {
     "name": "stdout",
     "output_type": "stream",
     "text": [
      "0.5714025946899135\n"
     ]
    }
   ],
   "source": [
    "#Utilizing the seed in Python\n",
    "import random\n",
    "\n",
    "random.seed(10)\n",
    "print(random.random())"
   ]
  },
  {
   "cell_type": "markdown",
   "metadata": {},
   "source": [
    "<h1>References</h1>\n",
    "    <li><b>NumPy Logo:</b> <a href=\"url\">https://encrypted-tbn0.gstatic.com/images?q=tbn:ANd9GcTMa6L1HoWd7zWIpL3Z8T3sO1Bb1exbc-K_Og&usqp=CAU</a></li>\n",
    "  <li> <b>NumPy Web Page:</b> <a href=\"url\">https://numpy.org/doc/stable/reference/random/bit_generators/index.html</a></li>\n",
    "    <li><b>'Statistics How To' Web Page:</b> <a href=\"url\">https://www.statisticshowto.com/probability-and-statistics/chi-square/</a></li>\n",
    "    <li><b>'ScienceDirect' Web Page:</b> <a href=\"url\">https://www.sciencedirect.com/topics/mathematics/dirichlet-distribution</a></li>\n",
    "    <li><b>'Engineering Statistics Handbook' Web Page:</b> <a href=\"url\">https://www.itl.nist.gov/div898/handbook/eda/section3/eda366i.htm</a></li>\n",
    "    <li><b>'ScienceDirect' Web Page:</b> <a href=\"url\">https://www.sciencedirect.com/topics/mathematics/beta-distribution </a></li>\n",
    "    <li><b>'Engineering Statistics Handbook' Web Page:</b> <a href=\"url\">https://www.itl.nist.gov/div898/handbook/eda/section3/eda3667.htm</a></li>\n",
    "        <li><b>'Dirichlet Distribution GIF' Web Page:</b> <a href=\"url\">https://upload.wikimedia.org/wikipedia/commons/thumb/5/54/LogDirichletDensity-alpha_0.3_to_alpha_2.0.gif/500px-LogDirichletDensity-alpha_0.3_to_alpha_2.0.gif</a></li>\n",
    "        <li><b>NumPy Web Page:</b> <a href=\"url\">https://numpy.org/doc/1.16/reference/routines.random.html</a></li>"
   ]
  }
 ],
 "metadata": {
  "kernelspec": {
   "display_name": "Python 3",
   "language": "python",
   "name": "python3"
  },
  "language_info": {
   "codemirror_mode": {
    "name": "ipython",
    "version": 3
   },
   "file_extension": ".py",
   "mimetype": "text/x-python",
   "name": "python",
   "nbconvert_exporter": "python",
   "pygments_lexer": "ipython3",
   "version": "3.8.5"
  }
 },
 "nbformat": 4,
 "nbformat_minor": 4
}
